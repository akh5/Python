{
 "cells": [
  {
   "cell_type": "code",
   "execution_count": 17,
   "metadata": {},
   "outputs": [],
   "source": [
    "from sklearn.datasets import load_iris\n",
    "import numpy as np\n",
    "import matplotlib.pyplot as plt"
   ]
  },
  {
   "cell_type": "code",
   "execution_count": 2,
   "metadata": {},
   "outputs": [],
   "source": [
    "iris_dataset = load_iris()"
   ]
  },
  {
   "cell_type": "code",
   "execution_count": 3,
   "metadata": {},
   "outputs": [
    {
     "data": {
      "text/plain": [
       "dict_keys(['data', 'target', 'target_names', 'DESCR', 'feature_names', 'filename'])"
      ]
     },
     "execution_count": 3,
     "metadata": {},
     "output_type": "execute_result"
    }
   ],
   "source": [
    "iris_dataset.keys()"
   ]
  },
  {
   "cell_type": "code",
   "execution_count": 6,
   "metadata": {},
   "outputs": [
    {
     "data": {
      "text/plain": [
       "array([[5.1, 3.5, 1.4, 0.2],\n",
       "       [4.9, 3. , 1.4, 0.2],\n",
       "       [4.7, 3.2, 1.3, 0.2],\n",
       "       [4.6, 3.1, 1.5, 0.2],\n",
       "       [5. , 3.6, 1.4, 0.2],\n",
       "       [5.4, 3.9, 1.7, 0.4],\n",
       "       [4.6, 3.4, 1.4, 0.3],\n",
       "       [5. , 3.4, 1.5, 0.2],\n",
       "       [4.4, 2.9, 1.4, 0.2],\n",
       "       [4.9, 3.1, 1.5, 0.1]])"
      ]
     },
     "execution_count": 6,
     "metadata": {},
     "output_type": "execute_result"
    }
   ],
   "source": [
    "iris_dataset['data'][:150]"
   ]
  },
  {
   "cell_type": "code",
   "execution_count": 8,
   "metadata": {},
   "outputs": [
    {
     "data": {
      "text/plain": [
       "array([0, 0, 0, 0, 0, 0, 0, 0, 0, 0, 0, 0, 0, 0, 0, 0, 0, 0, 0, 0, 0, 0,\n",
       "       0, 0, 0, 0, 0, 0, 0, 0, 0, 0, 0, 0, 0, 0, 0, 0, 0, 0, 0, 0, 0, 0,\n",
       "       0, 0, 0, 0, 0, 0, 1, 1, 1, 1, 1, 1, 1, 1, 1, 1, 1, 1, 1, 1, 1, 1,\n",
       "       1, 1, 1, 1, 1, 1, 1, 1, 1, 1, 1, 1, 1, 1, 1, 1, 1, 1, 1, 1, 1, 1,\n",
       "       1, 1, 1, 1, 1, 1, 1, 1, 1, 1, 1, 1, 2, 2, 2, 2, 2, 2, 2, 2, 2, 2,\n",
       "       2, 2, 2, 2, 2, 2, 2, 2, 2, 2, 2, 2, 2, 2, 2, 2, 2, 2, 2, 2, 2, 2,\n",
       "       2, 2, 2, 2, 2, 2, 2, 2, 2, 2, 2, 2, 2, 2, 2, 2, 2, 2])"
      ]
     },
     "execution_count": 8,
     "metadata": {},
     "output_type": "execute_result"
    }
   ],
   "source": [
    "iris_dataset['target'][:150]"
   ]
  },
  {
   "cell_type": "code",
   "execution_count": 81,
   "metadata": {},
   "outputs": [
    {
     "data": {
      "image/png": "[encoded data removed]",
      "text/plain": [
       "<Figure size 432x288 with 1 Axes>"
      ]
     },
     "metadata": {
      "needs_background": "light"
     },
     "output_type": "display_data"
    }
   ],
   "source": [
    "\n",
    "import numpy as np\n",
    "import matplotlib.pyplot as plt\n",
    "raw_x = iris_dataset['data'][:150] #\n",
    "raw_y = iris_dataset['target'][:150]#  原生的鸢尾花数据集\n",
    "\n",
    "x_train = np.array(raw_x)   #将鸢尾花数据集添加到 numpy的数组中 作为训练集\n",
    "y_train = np.array(raw_y)\n",
    "\n",
    "#这里为了方便只用了花萼的长，宽作为横纵坐标\n",
    "plt.scatter(x_train[y_train==0,0],x_train[y_train==0,1],color='#FF00FF') #紫色点代表setosa\n",
    "plt.scatter(x_train[y_train==1,0],x_train[y_train==1,1],color='#FFFF00') #黄色点代表versicolor\n",
    "plt.scatter(x_train[y_train==2,0],x_train[y_train==2,1],color='#00FFFF') #青色代表virginica\n",
    "plt.ylabel('sepal width', fontsize=14)\n",
    "plt.xlabel('sepal length', fontsize=14)\n",
    "plt.show()"
   ]
  },
  {
   "cell_type": "code",
   "execution_count": 82,
   "metadata": {},
   "outputs": [
    {
     "data": {
      "image/png": "[encoded data removed]",
      "text/plain": [
       "<Figure size 432x288 with 1 Axes>"
      ]
     },
     "metadata": {
      "needs_background": "light"
     },
     "output_type": "display_data"
    }
   ],
   "source": [
    "import numpy as np\n",
    "import matplotlib.pyplot as plt\n",
    "import random\n",
    "raw_x = iris_dataset['data'][:150] #\n",
    "raw_y = iris_dataset['target'][:150]#  原生的鸢尾花数据集\n",
    "\n",
    "X_train = np.array(raw_x)   #将鸢尾花数据集添加到 numpy的数组中 作为训练集\n",
    "Y_train = np.array(raw_y)\n",
    "\n",
    "#这里为了方便只用了花萼的长，宽作为横纵坐标\n",
    "plt.scatter(X_train[y_train==0,0],X_train[y_train==0,1],color='#FF00FF') #紫色点代表setosa\n",
    "plt.scatter(X_train[y_train==1,0],X_train[y_train==1,1],color='#FFFF00') #黄色点代表versicolor\n",
    "plt.scatter(X_train[y_train==2,0],X_train[y_train==2,1],color='#00FFFF') #青色代表virginica\n",
    "\n",
    "X_test = iris_dataset['data'][random.randint(1,149)] #产生一个随机的鸢尾花数据作为测试数据\n",
    "plt.scatter(X_test[0],X_test[1],color='#000000') #将测试数据用黑色添加在图标中\n",
    "plt.ylabel('sepal width', fontsize=14)\n",
    "plt.xlabel('sepal length', fontsize=14)\n",
    "plt.show()"
   ]
  },
  {
   "cell_type": "code",
   "execution_count": 47,
   "metadata": {},
   "outputs": [
    {
     "data": {
      "text/plain": [
       "[1.4317821063276357,\n",
       " 1.6124515496597096,\n",
       " 1.7999999999999998,\n",
       " 1.902629759044045,\n",
       " 1.5524174696260025,\n",
       " 1.3038404810405293,\n",
       " 1.9104973174542803,\n",
       " 1.5132745950421556,\n",
       " 2.121320343559642,\n",
       " 1.6031219541881394,\n",
       " 1.2083045973594568,\n",
       " 1.711724276862369,\n",
       " 1.711724276862369,\n",
       " 2.209072203437452,\n",
       " 1.0630145812734648,\n",
       " 1.4422205101855958,\n",
       " 1.3038404810405293,\n",
       " 1.4317821063276357,\n",
       " 0.9999999999999997,\n",
       " 1.523154621172782,\n",
       " 1.1180339887498945,\n",
       " 1.4866068747318508,\n",
       " 1.9416487838947603,\n",
       " 1.4035668847618203,\n",
       " 1.711724276862369,\n",
       " 1.5132745950421556,\n",
       " 1.5132745950421556,\n",
       " 1.334166406412633,\n",
       " 1.3152946437965902,\n",
       " 1.7999999999999998,\n",
       " 1.7029386365926404,\n",
       " 1.1180339887498945,\n",
       " 1.5811388300841893,\n",
       " 1.4142135623730951,\n",
       " 1.6031219541881394,\n",
       " 1.5,\n",
       " 1.0440306508910548,\n",
       " 1.6492422502470638,\n",
       " 2.109502310972898,\n",
       " 1.4142135623730954,\n",
       " 1.5297058540778354,\n",
       " 2.193171219946131,\n",
       " 2.0999999999999996,\n",
       " 1.5297058540778354,\n",
       " 1.523154621172782,\n",
       " 1.711724276862369,\n",
       " 1.523154621172782,\n",
       " 1.9000000000000004,\n",
       " 1.3,\n",
       " 1.5033296378372907,\n",
       " 0.5,\n",
       " 0.09999999999999964,\n",
       " 0.4123105625617664,\n",
       " 1.3453624047073711,\n",
       " 0.40000000000000036,\n",
       " 0.8944271909999159,\n",
       " 0.22360679774997896,\n",
       " 1.7888543819998315,\n",
       " 0.31622776601683805,\n",
       " 1.3928388277184118,\n",
       " 1.9209372712298547,\n",
       " 0.6324555320336757,\n",
       " 1.118033988749895,\n",
       " 0.5000000000000004,\n",
       " 0.9486832980505142,\n",
       " 0.22360679774997916,\n",
       " 0.9219544457292891,\n",
       " 0.8602325267042628,\n",
       " 1.0440306508910548,\n",
       " 1.1401754250991385,\n",
       " 0.5999999999999996,\n",
       " 0.5656854249492386,\n",
       " 0.728010988928052,\n",
       " 0.5656854249492386,\n",
       " 0.31622776601683805,\n",
       " 0.22360679774997896,\n",
       " 0.5000000000000001,\n",
       " 0.2828427124746193,\n",
       " 0.5830951894845302,\n",
       " 0.9999999999999999,\n",
       " 1.28062484748657,\n",
       " 1.28062484748657,\n",
       " 0.8602325267042628,\n",
       " 0.7071067811865476,\n",
       " 1.1180339887498945,\n",
       " 0.5385164807134504,\n",
       " 0.22360679774997916,\n",
       " 0.9219544457292891,\n",
       " 0.9219544457292891,\n",
       " 1.2206555615733703,\n",
       " 1.1661903789690602,\n",
       " 0.4472135954999583,\n",
       " 0.9219544457292889,\n",
       " 1.7492855684535902,\n",
       " 1.0295630140987002,\n",
       " 0.8246211251235319,\n",
       " 0.854400374531753,\n",
       " 0.42426406871192857,\n",
       " 1.5652475842498532,\n",
       " 0.8944271909999159,\n",
       " 0.22360679774997896,\n",
       " 0.8602325267042628,\n",
       " 0.6324555320336757,\n",
       " 0.36055512754639923,\n",
       " 0.20000000000000018,\n",
       " 1.1180339887498945,\n",
       " 1.7464249196572978,\n",
       " 0.854400374531753,\n",
       " 0.728010988928052,\n",
       " 0.806225774829855,\n",
       " 0.0,\n",
       " 0.5099019513592784,\n",
       " 0.3605551275463989,\n",
       " 1.0630145812734648,\n",
       " 0.8062257748298554,\n",
       " 0.09999999999999964,\n",
       " 0.20000000000000018,\n",
       " 1.3416407864998738,\n",
       " 1.341640786499874,\n",
       " 1.118033988749895,\n",
       " 0.40000000000000036,\n",
       " 0.9848857801796109,\n",
       " 1.264911064067352,\n",
       " 0.5385164807134505,\n",
       " 0.22360679774997896,\n",
       " 0.7000000000000002,\n",
       " 0.5000000000000001,\n",
       " 0.4472135954999583,\n",
       " 0.4123105625617663,\n",
       " 0.728010988928052,\n",
       " 0.9848857801796109,\n",
       " 1.523154621172782,\n",
       " 0.4123105625617663,\n",
       " 0.4472135954999583,\n",
       " 0.7211102550927981,\n",
       " 1.216552506059644,\n",
       " 0.28284271247461895,\n",
       " 0.1414213562373093,\n",
       " 0.5385164807134505,\n",
       " 0.4123105625617664,\n",
       " 0.22360679774997916,\n",
       " 0.4123105625617664,\n",
       " 0.8602325267042628,\n",
       " 0.2999999999999998,\n",
       " 0.22360679774997896,\n",
       " 0.2828427124746193,\n",
       " 0.728010988928052,\n",
       " 0.20000000000000018,\n",
       " 0.3605551275463986,\n",
       " 0.6324555320336757]"
      ]
     },
     "execution_count": 47,
     "metadata": {},
     "output_type": "execute_result"
    }
   ],
   "source": [
    "#原生Python实现KNN过程\n",
    "import math\n",
    "distances=[]\n",
    "#for循环找出测试数据与训练集每一个点的距离\n",
    "for x_train in X_train:\n",
    "    d = math.sqrt(np.sum((x_train[0]-X_test[0])**2+(x_train[1]-X_test[1])**2))\n",
    "    distances.append(d)\n",
    "distances"
   ]
  },
  {
   "cell_type": "code",
   "execution_count": 48,
   "metadata": {},
   "outputs": [
    {
     "data": {
      "text/plain": [
       "array([110,  51, 115, 137, 104, 147, 116,  56, 144,  75, 100, 124, 140,\n",
       "        65,  86, 136,  77, 145, 143,  58,  74, 148, 112, 103,  54, 120,\n",
       "       128, 132,  52, 141, 139,  97, 127,  91, 133,  50, 126,  76,  63,\n",
       "       111,  85, 138, 123,  73,  71,  78,  70,  61, 102, 149, 125,  83,\n",
       "       134,  72, 146, 108, 129, 109, 114,  95,  96, 107, 101,  67, 142,\n",
       "        82,  99,  55,  92,  88,  66,  87,  64, 130, 121,  18,  79,  94,\n",
       "        36,  68, 113,  14, 105,  31,  84,  20, 119,  62,  69,  90,  10,\n",
       "       135,  89, 122,  81,  80,  48,   5,  16,  28,  27, 117, 118,  53,\n",
       "        59,  23,  33,  39,  17,   0,  15,  21,  35,  49,   7,  25,  26,\n",
       "        46,  44,  19, 131,  43,  40,   4,  98,  32,  34,   9,   1,  37,\n",
       "        30,  11,  45,  24,  12, 106,  93,  57,   2,  29,  47,   3,   6,\n",
       "        60,  22,  42,  38,   8,  41,  13], dtype=int64)"
      ]
     },
     "execution_count": 48,
     "metadata": {},
     "output_type": "execute_result"
    }
   ],
   "source": [
    "#原生Python实现KNN过程\n",
    "import math\n",
    "distances=[]\n",
    "#for循环找出测试数据与训练集每一个点的距离\n",
    "for x_train in X_train:\n",
    "    d = math.sqrt(np.sum((x_train[0]-X_test[0])**2+(x_train[1]-X_test[1])**2))\n",
    "    distances.append(d)\n",
    "np.argsort(distances) #从小到大排列后返回索引"
   ]
  },
  {
   "cell_type": "code",
   "execution_count": 50,
   "metadata": {},
   "outputs": [
    {
     "data": {
      "text/plain": [
       "[2, 1, 2, 2, 2]"
      ]
     },
     "execution_count": 50,
     "metadata": {},
     "output_type": "execute_result"
    }
   ],
   "source": [
    "#原生Python实现KNN过程\n",
    "import math\n",
    "distances=[]\n",
    "#for循环找出测试数据与训练集每一个点的距离\n",
    "for x_train in X_train:\n",
    "    d = math.sqrt(np.sum((x_train[0]-X_test[0])**2+(x_train[1]-X_test[1])**2))\n",
    "    distances.append(d)\n",
    "nearest = np.argsort(distances) #从小到大排列后返回索引\n",
    "k = 5 #随便填写一个值作为要选取最近点的个数\n",
    "near_y = [y_train[i] for i in nearest[:k]]\n",
    "near_y"
   ]
  },
  {
   "cell_type": "code",
   "execution_count": 51,
   "metadata": {},
   "outputs": [
    {
     "data": {
      "text/plain": [
       "[2, 1, 2, 2, 2]"
      ]
     },
     "execution_count": 51,
     "metadata": {},
     "output_type": "execute_result"
    }
   ],
   "source": [
    "near_y #根据K近邻算法 测试数据就很有可能是virginica\n",
    "\n",
    "########现在把所有代码封装起来：\n"
   ]
  },
  {
   "cell_type": "code",
   "execution_count": 72,
   "metadata": {},
   "outputs": [
    {
     "data": {
      "image/png": "[encoded data removed]",
      "text/plain": [
       "<Figure size 432x288 with 1 Axes>"
      ]
     },
     "metadata": {
      "needs_background": "light"
     },
     "output_type": "display_data"
    }
   ],
   "source": [
    "import numpy as np\n",
    "import matplotlib.pyplot as plt\n",
    "from sklearn.datasets import load_iris\n",
    "import random\n",
    "import math\n",
    "\n",
    "iris_dataset = load_iris()\n",
    "\n",
    "raw_x = iris_dataset['data'][:150] #\n",
    "raw_y = iris_dataset['target'][:150]#  原生的鸢尾花数据集\n",
    "\n",
    "X_train = np.array(raw_x)   #将鸢尾花数据集添加到 numpy的数组中 作为训练集\n",
    "y_train = np.array(raw_y)\n",
    "\n",
    "#这里为了方便只用了花萼的长，宽作为横纵坐标\n",
    "plt.scatter(X_train[y_train==0,0],X_train[y_train==0,1],color='#FF00FF') #紫色点代表setosa\n",
    "plt.scatter(X_train[y_train==1,0],X_train[y_train==1,1],color='#FFFF00') #黄色点代表versicolor\n",
    "plt.scatter(X_train[y_train==2,0],X_train[y_train==2,1],color='#00FFFF') #青色代表virginica\n",
    "\n",
    "test = random.randint(1,149)\n",
    "X_test = iris_dataset['data'][test] #产生一个随机的鸢尾花数据\n",
    "plt.scatter(X_test[0],X_test[1],color='#000000') #将测试数据用黑色添加在图标中\n",
    "plt.ylabel('sepal width', fontsize=14)\n",
    "plt.xlabel('sepal length', fontsize=14)\n",
    "plt.show()\n",
    "#\n",
    "#原生Python实现KNN过程\n",
    "#\n",
    "def My_KNN(X_train,y_train,k,test,current_list):#K随便填写一个值作为要选取最近点的个数，但只能是奇数方便做判断\n",
    "    distances=[]\n",
    "    #for循环找出测试数据与训练集每一个点的距离\n",
    "    for x_train in X_train:\n",
    "        d = math.sqrt(np.sum((x_train[0]-X_test[0])**2+(x_train[1]-X_test[1])**2))\n",
    "        distances.append(d)\n",
    "    nearest = np.argsort(distances) #从小到大排列后返回索引\n",
    "    near_y = [y_train[i] for i in nearest[:k]]\n",
    "    for vote in near_y: #for循环选出数组中出现次数最多的y值\n",
    "        a=0\n",
    "        b=0\n",
    "        c=0\n",
    "        vote_out = 0\n",
    "        if vote == 0:\n",
    "            a+=1\n",
    "        elif vote == 1:\n",
    "            b+=1\n",
    "        else:\n",
    "            c+=1\n",
    "        if b>(c or a):\n",
    "            vote_out = 1\n",
    "        elif c>( b or a):\n",
    "            vote_out = 2\n",
    "        else:\n",
    "            vote_out = 0\n",
    "    ####### vote_out就是  从邻近点中选出最多的点就是预测的鸢尾花种类\n",
    "    if vote_out == y_train[test]:\n",
    "        current_list.append(1)\n",
    "    else:\n",
    "        current_list.append(0)\n",
    "    print(vote_out,y_train[test])\n",
    "    "
   ]
  },
  {
   "cell_type": "code",
   "execution_count": 80,
   "metadata": {},
   "outputs": [
    {
     "name": "stdout",
     "output_type": "stream",
     "text": [
      "2 2\n",
      "2 1\n",
      "2 2\n",
      "2 2\n",
      "0 0\n",
      "0 0\n",
      "1 2\n",
      "0 0\n",
      "1 2\n",
      "0 0\n",
      "1 1\n",
      "1 2\n",
      "2 2\n",
      "0 0\n",
      "0 0\n",
      "0 0\n",
      "2 1\n",
      "2 1\n",
      "2 1\n",
      "0 0\n",
      "1 1\n",
      "1 2\n",
      "2 2\n",
      "1 1\n",
      "1 1\n",
      "0 0\n",
      "0 0\n",
      "1 2\n",
      "2 1\n",
      "0 0\n",
      "2 1\n",
      "1 1\n",
      "1 1\n",
      "0 0\n",
      "0 0\n",
      "2 2\n",
      "2 2\n",
      "1 1\n",
      "1 1\n",
      "2 2\n",
      "2 2\n",
      "1 1\n",
      "1 2\n",
      "2 2\n",
      "0 0\n",
      "1 1\n",
      "1 2\n",
      "0 0\n",
      "1 2\n",
      "1 1\n",
      "\n",
      "在抽选50组数据中，K为5，其算法预测的准确度为0.72\n",
      "\n"
     ]
    }
   ],
   "source": [
    "current_list=[]\n",
    "count = 0\n",
    "k = 5\n",
    "for i in range(50):\n",
    "    count+=1\n",
    "    test = random.randint(1,149)\n",
    "    X_test = iris_dataset['data'][test]\n",
    "    My_KNN(X_train,y_train,k,test,current_list)\n",
    "current_list\n",
    "percent = sum(current_list)/len(current_list) #因为数组内只有0和1 所以数组内元素相加/数组长度就是正确率\n",
    "print(\"\"\"\n",
    "在抽选{0}组数据中，K为{1}，其算法预测的准确度为{2}\n",
    "\"\"\".format(count,k,percent))"
   ]
  },
  {
   "cell_type": "code",
   "execution_count": null,
   "metadata": {},
   "outputs": [],
   "source": []
  }
 ],
 "metadata": {
  "kernelspec": {
   "display_name": "Python 3",
   "language": "python",
   "name": "python3"
  },
  "language_info": {
   "codemirror_mode": {
    "name": "ipython",
    "version": 3
   },
   "file_extension": ".py",
   "mimetype": "text/x-python",
   "name": "python",
   "nbconvert_exporter": "python",
   "pygments_lexer": "ipython3",
   "version": "3.7.3"
  }
 },
 "nbformat": 4,
 "nbformat_minor": 2
}
